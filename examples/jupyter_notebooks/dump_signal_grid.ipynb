{
 "cells": [
  {
   "cell_type": "code",
   "execution_count": 24,
   "id": "a3803129",
   "metadata": {},
   "outputs": [],
   "source": [
    "import pyhf\n",
    "import pyhf.contrib.utils\n",
    "import json\n",
    "import numpy as np"
   ]
  },
  {
   "cell_type": "code",
   "execution_count": 25,
   "id": "ce11aa87",
   "metadata": {},
   "outputs": [],
   "source": [
    "pyhf.contrib.utils.download(\n",
    "    \"https://doi.org/10.17182/hepdata.90607.v3/r3\", \"1Lbb-likelihoods\"\n",
    ")"
   ]
  },
  {
   "cell_type": "markdown",
   "id": "021b9dbd",
   "metadata": {},
   "source": [
    "created with https://github.com/eschanet/simplify\n",
    "```sh\n",
    "simplify convert < BkgOnly.json > simplified.json\n",
    "```"
   ]
  },
  {
   "cell_type": "code",
   "execution_count": 26,
   "id": "3c1fc929",
   "metadata": {},
   "outputs": [],
   "source": [
    "with open(\"1Lbb-likelihoods/simplified.json\") as f:\n",
    "    spec = json.load(f)"
   ]
  },
  {
   "cell_type": "code",
   "execution_count": 27,
   "id": "417acb8c",
   "metadata": {},
   "outputs": [],
   "source": [
    "with open(\"1Lbb-likelihoods/patchset.json\") as f:\n",
    "    patchset = pyhf.PatchSet(json.load(f))"
   ]
  },
  {
   "cell_type": "code",
   "execution_count": 28,
   "id": "9403b4ee",
   "metadata": {},
   "outputs": [
    {
     "data": {
      "text/plain": [
       "['WREM_cuts',\n",
       " 'STCREM_cuts',\n",
       " 'TRHMEM_cuts',\n",
       " 'TRMMEM_cuts',\n",
       " 'TRLMEM_cuts',\n",
       " 'SRHMEM_mct2',\n",
       " 'SRMMEM_mct2',\n",
       " 'SRLMEM_mct2']"
      ]
     },
     "execution_count": 28,
     "metadata": {},
     "output_type": "execute_result"
    }
   ],
   "source": [
    "[c[\"name\"] for c in spec[\"channels\"]]"
   ]
  },
  {
   "cell_type": "code",
   "execution_count": 29,
   "id": "267a8f4b",
   "metadata": {},
   "outputs": [],
   "source": [
    "extract_channels = [\"SRLMEM_mct2\", \"SRMMEM_mct2\", \"SRHMEM_mct2\"]"
   ]
  },
  {
   "cell_type": "code",
   "execution_count": 30,
   "id": "03c70935",
   "metadata": {},
   "outputs": [],
   "source": [
    "def nosys(patch):\n",
    "    return pyhf.patchset.Patch(\n",
    "        dict(\n",
    "            metadata=patch.metadata,\n",
    "            patch=[\n",
    "                {\n",
    "                    \"op\" : i[\"op\"],\n",
    "                    \"path\" : \"/\".join(i[\"path\"].split(\"/\")[:-1]) + \"/1\",\n",
    "                    \"value\" : {\n",
    "                        \"data\" : i[\"value\"][\"data\"], \"name\" : i[\"value\"][\"name\"],\n",
    "                        \"modifiers\" : [{'data': None, 'name': 'mu_Sig', 'type': 'normfactor'}]\n",
    "                    },\n",
    "                }\n",
    "                for i in patch\n",
    "            ]\n",
    "        )\n",
    "    )"
   ]
  },
  {
   "cell_type": "code",
   "execution_count": 31,
   "id": "314151ce",
   "metadata": {},
   "outputs": [],
   "source": [
    "patched = nosys(patchset.patches[0]).apply(spec)"
   ]
  },
  {
   "cell_type": "code",
   "execution_count": 32,
   "id": "8d984683",
   "metadata": {},
   "outputs": [],
   "source": [
    "channel_dict = {c[\"name\"] : c for c in patched[\"channels\"]}"
   ]
  },
  {
   "cell_type": "code",
   "execution_count": 33,
   "id": "7c8f0593",
   "metadata": {},
   "outputs": [],
   "source": [
    "b = []\n",
    "for channel in extract_channels:\n",
    "    b += channel_dict[channel][\"samples\"][0][\"data\"]"
   ]
  },
  {
   "cell_type": "code",
   "execution_count": 34,
   "id": "b1ef15c6",
   "metadata": {},
   "outputs": [
    {
     "data": {
      "text/plain": [
       "[13.00659260848957,\n",
       " 9.84251410934949,\n",
       " 6.668866664075592,\n",
       " 3.84335063984653,\n",
       " 5.928258939016435,\n",
       " 1.837121080628339,\n",
       " 6.4399309680624,\n",
       " 4.616131198108342,\n",
       " 1.6039841463924573]"
      ]
     },
     "execution_count": 34,
     "metadata": {},
     "output_type": "execute_result"
    }
   ],
   "source": [
    "b"
   ]
  },
  {
   "cell_type": "code",
   "execution_count": 35,
   "id": "1bfe11c3",
   "metadata": {},
   "outputs": [
    {
     "data": {
      "text/plain": [
       "['Bkg', 'C1N2_Wh_hbb_1000_0']"
      ]
     },
     "execution_count": 35,
     "metadata": {},
     "output_type": "execute_result"
    }
   ],
   "source": [
    "[s[\"name\"] for s in patched[\"channels\"][0][\"samples\"]]"
   ]
  },
  {
   "cell_type": "code",
   "execution_count": 36,
   "id": "405b445b",
   "metadata": {},
   "outputs": [],
   "source": [
    "signals = []\n",
    "for patch in patchset:\n",
    "    patched = nosys(patch).apply(spec)\n",
    "    channel_dict = {c[\"name\"] : c for c in patched[\"channels\"]}\n",
    "    s = []\n",
    "    for channel in extract_channels:\n",
    "        if len(channel_dict[channel][\"samples\"]) > 1:\n",
    "            s += channel_dict[channel][\"samples\"][1][\"data\"]\n",
    "        else:\n",
    "            s += [0, 0, 0]\n",
    "    signals.append({\"x\" : patch.values[0], \"y\" : patch.values[1], \"data\" : s})"
   ]
  },
  {
   "cell_type": "code",
   "execution_count": 37,
   "id": "12e0e2e0",
   "metadata": {},
   "outputs": [],
   "source": [
    "with open(\"example_signals.json\", \"w\") as f:\n",
    "    json.dump(signals, f, indent=4)"
   ]
  },
  {
   "cell_type": "code",
   "execution_count": 38,
   "id": "1fbf9404",
   "metadata": {},
   "outputs": [],
   "source": [
    "with open(\"example_background.json\", \"w\") as f:\n",
    "    json.dump(b, f, indent=4)"
   ]
  }
 ],
 "metadata": {
  "kernelspec": {
   "display_name": "Python 3",
   "language": "python",
   "name": "python3"
  },
  "language_info": {
   "codemirror_mode": {
    "name": "ipython",
    "version": 3
   },
   "file_extension": ".py",
   "mimetype": "text/x-python",
   "name": "python",
   "nbconvert_exporter": "python",
   "pygments_lexer": "ipython3",
   "version": "3.9.2"
  },
  "toc": {
   "base_numbering": 1,
   "nav_menu": {},
   "number_sections": true,
   "sideBar": true,
   "skip_h1_title": false,
   "title_cell": "Table of Contents",
   "title_sidebar": "Contents",
   "toc_cell": false,
   "toc_position": {},
   "toc_section_display": true,
   "toc_window_display": false
  }
 },
 "nbformat": 4,
 "nbformat_minor": 5
}
