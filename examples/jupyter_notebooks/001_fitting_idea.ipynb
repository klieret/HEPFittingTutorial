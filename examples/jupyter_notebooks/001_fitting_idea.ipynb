{
 "cells": [
  {
   "cell_type": "markdown",
   "metadata": {},
   "source": [
    "# The idea of fitting: Minimizing some functional"
   ]
  },
  {
   "cell_type": "markdown",
   "metadata": {},
   "source": [
    "<div class=\"alert alert-block alert-danger\">\n",
    "    <b>Note for contributors:</b> Remember to run <code>Kernel > Restart & Clear output</code> before adding any changes to git!</div>"
   ]
  },
  {
   "cell_type": "markdown",
   "metadata": {},
   "source": [
    "**In this tutorial we build our own fitter based on minimizing a functional!**"
   ]
  },
  {
   "cell_type": "code",
   "execution_count": null,
   "metadata": {
    "ExecuteTime": {
     "end_time": "2020-04-22T12:35:50.686088Z",
     "start_time": "2020-04-22T12:35:50.222779Z"
    }
   },
   "outputs": [],
   "source": [
    "# Fast vectorized numeric operations\n",
    "import numpy as np\n",
    "\n",
    "# Plotting\n",
    "import matplotlib.pyplot as plt\n",
    "\n",
    "# A function to minimize\n",
    "from scipy.optimize import minimize\n",
    "\n",
    "# Show plots directly in this notebook\n",
    "%matplotlib inline"
   ]
  },
  {
   "cell_type": "markdown",
   "metadata": {},
   "source": [
    "Let's define some random data:"
   ]
  },
  {
   "cell_type": "code",
   "execution_count": null,
   "metadata": {
    "ExecuteTime": {
     "end_time": "2020-04-22T12:36:27.326919Z",
     "start_time": "2020-04-22T12:36:27.313972Z"
    }
   },
   "outputs": [],
   "source": [
    "x_data = np.linspace(-1, 1, 10)\n",
    "y_data = -1 + 3 * x_data + 2 * np.random.random_sample(10)"
   ]
  },
  {
   "cell_type": "markdown",
   "metadata": {},
   "source": [
    "And take a quick look at it:"
   ]
  },
  {
   "cell_type": "code",
   "execution_count": null,
   "metadata": {
    "ExecuteTime": {
     "end_time": "2020-04-22T12:36:28.249684Z",
     "start_time": "2020-04-22T12:36:28.055720Z"
    }
   },
   "outputs": [],
   "source": [
    "plt.plot(x_data, y_data, 'ko')"
   ]
  },
  {
   "cell_type": "markdown",
   "metadata": {},
   "source": [
    "This looks like a line, so this is what we want to fit:"
   ]
  },
  {
   "cell_type": "code",
   "execution_count": null,
   "metadata": {
    "ExecuteTime": {
     "end_time": "2020-04-22T12:36:34.977538Z",
     "start_time": "2020-04-22T12:36:34.974647Z"
    }
   },
   "outputs": [],
   "source": [
    "def line(x, params):\n",
    "    return params[0] * x + params[1]"
   ]
  },
  {
   "cell_type": "markdown",
   "metadata": {},
   "source": [
    "The line is defined as $f(\\vec x) = a \\vec x + b$ and maps a vector of x coordinates to y coordinates.\n",
    "The two parameters a and b are collected in vector ``params``.\n",
    "\n",
    "Now the idea is to minimize the distance of our function ``line`` to the y coordinates of the data, so we define\n",
    "another function ``chi2``, which, for every set of parameters returns the sum of the squared distances of data points to function values:"
   ]
  },
  {
   "cell_type": "code",
   "execution_count": null,
   "metadata": {
    "ExecuteTime": {
     "end_time": "2020-04-22T12:37:05.430771Z",
     "start_time": "2020-04-22T12:37:05.420673Z"
    }
   },
   "outputs": [],
   "source": [
    "def chi2(params):\n",
    "    return np.sum(np.square(y_data - line(x_data, params)))"
   ]
  },
  {
   "cell_type": "markdown",
   "metadata": {},
   "source": [
    "Let's look at this step by step: \n",
    "\n",
    "* ``line(x_data, params)``: Here we passed on the parameters of ``chi2`` to the line function which we evaluate for all the data x values. The result is a vector y values.\n",
    "* ``y_data - line(x_data, params)``: This is then the vector of distances between the data y values and the y values of our function\n",
    "* ``np.square(y_data - line(x_data, params))``: The vector of squared distances\n",
    "* ``np.sum(np.square(y_data - line(x_data, params)))``: Summing everything up"
   ]
  },
  {
   "cell_type": "markdown",
   "metadata": {},
   "source": [
    "Now all we have to do is minimize these distances.\n",
    "For this we use the minimizer [`scipy.optimize.minimize`](https://docs.scipy.org/doc/scipy/reference/generated/scipy.optimize.minimize.html). It needs start points, which we just set to ``(0, 1)``"
   ]
  },
  {
   "cell_type": "markdown",
   "metadata": {},
   "source": [
    "**NOTE**: usually the $\\chi^2$ function will take uncertainties into account by dividing through them:\n",
    "        $\\sum{(x-p)^2/\\sigma_x^2 }$. Since we didn't do this, we made the implicit assumption $\\sigma_x=1$."
   ]
  },
  {
   "cell_type": "code",
   "execution_count": null,
   "metadata": {
    "ExecuteTime": {
     "end_time": "2020-04-22T12:38:10.431249Z",
     "start_time": "2020-04-22T12:38:10.413643Z"
    }
   },
   "outputs": [],
   "source": [
    "result = minimize(chi2, (0, 1))"
   ]
  },
  {
   "cell_type": "markdown",
   "metadata": {},
   "source": [
    "Note how ``minimize`` is a higher order function, that takes a function as first argument!"
   ]
  },
  {
   "cell_type": "markdown",
   "metadata": {},
   "source": [
    "The results object contains quite a lot of useful information, but we just want the values of our parameters:"
   ]
  },
  {
   "cell_type": "code",
   "execution_count": null,
   "metadata": {
    "ExecuteTime": {
     "end_time": "2020-04-22T12:38:42.683043Z",
     "start_time": "2020-04-22T12:38:42.679413Z"
    }
   },
   "outputs": [],
   "source": [
    "result.x"
   ]
  },
  {
   "cell_type": "markdown",
   "metadata": {},
   "source": [
    "Now let's see how well we fitted:"
   ]
  },
  {
   "cell_type": "code",
   "execution_count": null,
   "metadata": {
    "ExecuteTime": {
     "end_time": "2020-04-22T12:38:50.893129Z",
     "start_time": "2020-04-22T12:38:50.664387Z"
    }
   },
   "outputs": [],
   "source": [
    "# Plotting our data point\n",
    "plt.plot(x_data, y_data, 'ko', label=\"data\")\n",
    "plt.plot(x_data, line(x_data, result.x), \"r-\", label=\"fit\")\n",
    "plt.legend()"
   ]
  }
 ],
 "metadata": {
  "kernelspec": {
   "display_name": "Python 3",
   "language": "python",
   "name": "python3"
  },
  "language_info": {
   "codemirror_mode": {
    "name": "ipython",
    "version": 3
   },
   "file_extension": ".py",
   "mimetype": "text/x-python",
   "name": "python",
   "nbconvert_exporter": "python",
   "pygments_lexer": "ipython3",
   "version": "3.9.2"
  },
  "toc": {
   "base_numbering": 1,
   "nav_menu": {},
   "number_sections": true,
   "sideBar": true,
   "skip_h1_title": false,
   "title_cell": "Table of Contents",
   "title_sidebar": "Contents",
   "toc_cell": false,
   "toc_position": {},
   "toc_section_display": true,
   "toc_window_display": false
  },
  "varInspector": {
   "cols": {
    "lenName": 16,
    "lenType": 16,
    "lenVar": 40
   },
   "kernels_config": {
    "python": {
     "delete_cmd_postfix": "",
     "delete_cmd_prefix": "del ",
     "library": "var_list.py",
     "varRefreshCmd": "print(var_dic_list())"
    },
    "r": {
     "delete_cmd_postfix": ") ",
     "delete_cmd_prefix": "rm(",
     "library": "var_list.r",
     "varRefreshCmd": "cat(var_dic_list()) "
    }
   },
   "types_to_exclude": [
    "module",
    "function",
    "builtin_function_or_method",
    "instance",
    "_Feature"
   ],
   "window_display": false
  }
 },
 "nbformat": 4,
 "nbformat_minor": 2
}
