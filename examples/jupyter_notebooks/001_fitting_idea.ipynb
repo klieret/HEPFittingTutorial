{
 "cells": [
  {
   "cell_type": "markdown",
   "metadata": {},
   "source": [
    "# The idea of fitting: Minimizing some functional"
   ]
  },
  {
   "cell_type": "markdown",
   "metadata": {},
   "source": [
    "<div class=\"alert alert-block alert-danger\">\n",
    "    <b>Note for contributors:</b> Remember to run <code>Kernel > Restart & Clear output</code> before adding any changes to git!</div>"
   ]
  },
  {
   "cell_type": "markdown",
   "metadata": {},
   "source": [
    "**In this tutorial we build our own fitter based from a minimizer!**"
   ]
  },
  {
   "cell_type": "code",
   "execution_count": null,
   "metadata": {},
   "outputs": [],
   "source": [
    "import numpy as np\n",
    "import matplotlib.pyplot as plt\n",
    "from scipy.optimize import minimize\n",
    "%matplotlib inline"
   ]
  },
  {
   "cell_type": "markdown",
   "metadata": {},
   "source": [
    "Let's define some random data:"
   ]
  },
  {
   "cell_type": "code",
   "execution_count": null,
   "metadata": {},
   "outputs": [],
   "source": [
    "x_data = np.linspace(-1, 1, 10)\n",
    "y_data = -1 + 2 * np.random.random_sample(10) + 3 * x_data"
   ]
  },
  {
   "cell_type": "markdown",
   "metadata": {},
   "source": [
    "And take a quick look at it:"
   ]
  },
  {
   "cell_type": "code",
   "execution_count": null,
   "metadata": {},
   "outputs": [],
   "source": [
    "plt.plot(x_data, y_data, 'ko')"
   ]
  },
  {
   "cell_type": "markdown",
   "metadata": {},
   "source": [
    "This looks like a line, so this is what we want to fit:"
   ]
  },
  {
   "cell_type": "code",
   "execution_count": null,
   "metadata": {},
   "outputs": [],
   "source": [
    "def line(x, params):\n",
    "    return params[0] * x + params[1]"
   ]
  },
  {
   "cell_type": "markdown",
   "metadata": {},
   "source": [
    "The line is defined as $f(\\vec x) = a \\vec x + b$ and maps a vector of x coordinates to y coordinates.\n",
    "The two parameters a and b are collected in vector ``params``.\n",
    "\n",
    "Now the idea is to minimize the distance of our function ``line`` to the y coordinates of the data, so we define\n",
    "another function ``chi2``, which, for every set of parameters returns the sum of the squared distances of data points to function values:"
   ]
  },
  {
   "cell_type": "code",
   "execution_count": null,
   "metadata": {},
   "outputs": [],
   "source": [
    "def chi2(params):\n",
    "    return np.sum(np.square(y_data - line(x_data, params)))"
   ]
  },
  {
   "cell_type": "markdown",
   "metadata": {},
   "source": [
    "Let's look at this step by step: \n",
    "\n",
    "* ``line(x_data, params)``: Here we passed on the parameters of ``chi2`` to the line function which we evaluate for all the data x values. The result is a vector y values.\n",
    "* ``y_data - line(x_data, params)``: This is then the vector of distances between the data y values and the y values of our function\n",
    "* ``np.square(y_data - line(x_data, params))``: The vector of squared distances\n",
    "* ``np.sum(np.square(y_data - line(x_data, params)))``: Summing everything up"
   ]
  },
  {
   "cell_type": "markdown",
   "metadata": {},
   "source": [
    "Now all we have to do is minimize these distances.\n",
    "For this we use the minimizer ``scipy.optimize.minimize`` [https://docs.scipy.org/doc/scipy/reference/generated/scipy.optimize.minimize.html]. It needs start points, which we just set to ``(0, 1)``"
   ]
  },
  {
   "cell_type": "markdown",
   "metadata": {},
   "source": [
    "**NOTE**: usually the chi2 function will take uncertainties into account by dividing through them:\n",
    "        $\\sum{(x-p)^2/\\sigma_x^2 }$. Since we didn't do this, we made the implicit assumption $\\sigma_x=1$."
   ]
  },
  {
   "cell_type": "code",
   "execution_count": null,
   "metadata": {},
   "outputs": [],
   "source": [
    "result = minimize(chi2, (0, 1))"
   ]
  },
  {
   "cell_type": "markdown",
   "metadata": {},
   "source": [
    "The results object contains quite a lot of useful information, but we just want the values of our parameters:"
   ]
  },
  {
   "cell_type": "code",
   "execution_count": null,
   "metadata": {},
   "outputs": [],
   "source": [
    "result.x"
   ]
  },
  {
   "cell_type": "markdown",
   "metadata": {},
   "source": [
    "Now let's see how well we fitted:"
   ]
  },
  {
   "cell_type": "code",
   "execution_count": null,
   "metadata": {},
   "outputs": [],
   "source": [
    "# Plotting our data point\n",
    "plt.plot(x_data, y_data, 'ko', label=\"data\")\n",
    "plt.plot(x_data, line(x_data, result.x), \"r-\", label=\"fit\")\n",
    "plt.legend()"
   ]
  }
 ],
 "metadata": {
  "kernelspec": {
   "display_name": "Python 3",
   "language": "python",
   "name": "python3"
  },
  "language_info": {
   "codemirror_mode": {
    "name": "ipython",
    "version": 3
   },
   "file_extension": ".py",
   "mimetype": "text/x-python",
   "name": "python",
   "nbconvert_exporter": "python",
   "pygments_lexer": "ipython3",
   "version": "3.7.5"
  }
 },
 "nbformat": 4,
 "nbformat_minor": 2
}
