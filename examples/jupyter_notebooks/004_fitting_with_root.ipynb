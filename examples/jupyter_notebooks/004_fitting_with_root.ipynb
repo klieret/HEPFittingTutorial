{
 "cells": [
  {
   "cell_type": "markdown",
   "metadata": {},
   "source": [
    "# Fitting with ROOT\n",
    "\n"
   ]
  },
  {
   "cell_type": "markdown",
   "metadata": {},
   "source": [
    "(copied from the root web-page)\n",
    "ROOT is a modular scientific software toolkit. It provides all the functionalities needed to deal with big data processing, statistical analysis, visualisation and storage. It is mainly written in C++ but integrated with other languages such as Python and R.\n",
    "\n",
    "root web page can be found here: https://root.cern.ch/"
   ]
  },
  {
   "cell_type": "code",
   "execution_count": null,
   "metadata": {
    "ExecuteTime": {
     "end_time": "2020-04-22T13:48:06.820640Z",
     "start_time": "2020-04-22T13:48:05.224995Z"
    }
   },
   "outputs": [],
   "source": [
    "# load root libraries and some math\n",
    "import ROOT\n",
    "import math as m"
   ]
  },
  {
   "cell_type": "code",
   "execution_count": null,
   "metadata": {
    "ExecuteTime": {
     "end_time": "2020-04-22T13:48:07.851496Z",
     "start_time": "2020-04-22T13:48:07.561431Z"
    },
    "scrolled": false
   },
   "outputs": [],
   "source": [
    "# create some dummy data histogram and fill it with random data gaussian distributed\n",
    "histgaus = ROOT.TH1F(\"hgaus\",\"hgaus\", 100, -5, 5)\n",
    "histgaus.FillRandom(\"gaus\",1000)\n",
    "c1 = ROOT.TCanvas(\"c1\",\"c1\")\n",
    "histgaus.Draw()\n",
    "c1.Draw()"
   ]
  },
  {
   "cell_type": "markdown",
   "metadata": {},
   "source": [
    "ROOT comes with its own function class called 'TF1'. This recognizes already some predefined functions like:\n",
    "    'gaus': Gaussian with the parameters normalization, mean, and sigma\n",
    "    'expo': exponential function\n",
    "    'pol0', 'pol1', ....: polynomial 0th, 1st, ... order\n",
    "    'sin(x)': sinus\n",
    "    'cos(x)': cosinus \n",
    "    ..."
   ]
  },
  {
   "cell_type": "code",
   "execution_count": null,
   "metadata": {
    "ExecuteTime": {
     "end_time": "2020-04-22T13:48:14.740224Z",
     "start_time": "2020-04-22T13:48:14.664959Z"
    }
   },
   "outputs": [],
   "source": [
    "# to initialize a root function with a predefined function you have to give 4 parameters:\n",
    "# 1: the name, chose as you like, but ROOT will complain if the name already was used\n",
    "# 2: the identifier for a predefined function, here a Gaussian so \"gaus\" is used\n",
    "# 3,4: the min and max of the Range\n",
    "fungaus = ROOT.TF1(\"fungaus\",\"gaus\",-5,5)\n",
    "\n",
    "#some information on the function can be obtained by using the 'Print()' function\n",
    "fungaus.Print()\n",
    "\n",
    "# the initial values of the 3 parameters are usually 0, so set some dummy values to see something when \n",
    "# drawing the function\n",
    "fungaus.SetParameters(1,1,1)\n",
    "fungaus.Draw()\n",
    "c1.Draw()\n"
   ]
  },
  {
   "cell_type": "markdown",
   "metadata": {},
   "source": [
    "**NOTE**: setting initial parameters is important as this may be the difference between a good or a bad fit result!\n",
    " Badly chosen initial parameters can lead to failed fits or running into a local, instead of the global, minimum."
   ]
  },
  {
   "cell_type": "code",
   "execution_count": null,
   "metadata": {
    "ExecuteTime": {
     "end_time": "2020-04-22T13:48:17.589608Z",
     "start_time": "2020-04-22T13:48:17.518230Z"
    }
   },
   "outputs": [],
   "source": [
    "# fitting is now simple by asking the data histogram this\n",
    "histgaus.Fit(fungaus)\n",
    "histgaus.Draw()\n",
    "c1.Draw()"
   ]
  },
  {
   "cell_type": "code",
   "execution_count": null,
   "metadata": {
    "ExecuteTime": {
     "end_time": "2020-04-22T13:48:19.309846Z",
     "start_time": "2020-04-22T13:48:19.259273Z"
    }
   },
   "outputs": [],
   "source": [
    "# in some case fitting a subrange can be benificial. This is done by setting the range of the function:\n",
    "fungaus.SetRange(-1,1)\n",
    "\n",
    "# and using the option \"R\" when fitting\n",
    "histgaus.Fit(fungaus, \"R\")\n",
    "histgaus.Draw()\n",
    "c1.Draw()\n"
   ]
  },
  {
   "cell_type": "code",
   "execution_count": null,
   "metadata": {
    "ExecuteTime": {
     "end_time": "2020-04-22T13:48:21.563077Z",
     "start_time": "2020-04-22T13:48:21.533420Z"
    }
   },
   "outputs": [],
   "source": [
    "# one also can use user defined functions, they have to have the format f(x,y) where x and p are interpreted \n",
    "# as vectors. x represents the input values (x[0]=x, x[1]=y, x[2]=z ...), and p the parameters of the function\n",
    "\n",
    "# example: my own defintiion of a gaussian \n",
    "def mygausdef(x,p):\n",
    "    # some save guards to prevent division by zero and make it positive\n",
    "    if p[0] < 0 :\n",
    "        return 0.\n",
    "    if p[2] == 0:\n",
    "        return 0.\n",
    "    return p[0]*m.exp(-(x[0]-p[1])*(x[0]-p[1])/2/p[2]/p[2])\n",
    "\n",
    "\n",
    "# to use a user defined function you have to initialize with 5 parameters:\n",
    "# 1: the name\n",
    "# 2: the function you want to use\n",
    "# 3,4: min and max of the range\n",
    "# 5: the number of parameters the function has (3 in this case)\n",
    "mygaus = ROOT.TF1(\"mygaus\", mygausdef, -5, 5, 3)"
   ]
  },
  {
   "cell_type": "code",
   "execution_count": null,
   "metadata": {
    "ExecuteTime": {
     "end_time": "2020-04-22T13:48:24.735463Z",
     "start_time": "2020-04-22T13:48:24.682854Z"
    }
   },
   "outputs": [],
   "source": [
    "histgaus.Fit(mygaus)\n",
    "histgaus.Draw()\n",
    "c1.Draw()"
   ]
  },
  {
   "cell_type": "markdown",
   "metadata": {},
   "source": [
    "**Oops!** **Exercise**: Try to fix the fit!"
   ]
  },
  {
   "cell_type": "code",
   "execution_count": null,
   "metadata": {
    "ExecuteTime": {
     "end_time": "2020-04-22T13:48:31.362891Z",
     "start_time": "2020-04-22T13:48:31.339312Z"
    }
   },
   "outputs": [],
   "source": [
    "# one can combine arbitrary functions like in the \n",
    "# examples below and \"[0]\" will be interpreted as 0th parameter of the new function etc. \n",
    "myfun2 = ROOT.TF1(\"myfun2\",\"[0]+[1]*x+[2]*x*x+[3]*sin(x)+[4]*expo(5)\", -5, 5)\n",
    "\n",
    "# NOTE: the \"(5)\" in the predefined \"expo(5)\" denotes that the parameters for that function start at the 5th position\n",
    "#   so the function has 7 parameters ([0] .. [4] + the 2 from the exponential)\n",
    "\n",
    "myfun2.Print()"
   ]
  },
  {
   "cell_type": "code",
   "execution_count": null,
   "metadata": {
    "ExecuteTime": {
     "end_time": "2020-04-22T13:48:32.874124Z",
     "start_time": "2020-04-22T13:48:32.825115Z"
    }
   },
   "outputs": [],
   "source": [
    "histgaus.Fit(myfun2)\n",
    "histgaus.Draw()\n",
    "c1.Draw()"
   ]
  },
  {
   "cell_type": "markdown",
   "metadata": {},
   "source": [
    "**Task**: fit a triangle to the dataset.\n"
   ]
  }
 ],
 "metadata": {
  "kernelspec": {
   "display_name": "Python 3",
   "language": "python",
   "name": "python3"
  },
  "language_info": {
   "codemirror_mode": {
    "name": "ipython",
    "version": 3
   },
   "file_extension": ".py",
   "mimetype": "text/x-python",
   "name": "python",
   "nbconvert_exporter": "python",
   "pygments_lexer": "ipython3",
   "version": "3.9.2"
  },
  "toc": {
   "base_numbering": 1,
   "nav_menu": {},
   "number_sections": true,
   "sideBar": true,
   "skip_h1_title": false,
   "title_cell": "Table of Contents",
   "title_sidebar": "Contents",
   "toc_cell": false,
   "toc_position": {},
   "toc_section_display": true,
   "toc_window_display": false
  },
  "varInspector": {
   "cols": {
    "lenName": 16,
    "lenType": 16,
    "lenVar": 40
   },
   "kernels_config": {
    "python": {
     "delete_cmd_postfix": "",
     "delete_cmd_prefix": "del ",
     "library": "var_list.py",
     "varRefreshCmd": "print(var_dic_list())"
    },
    "r": {
     "delete_cmd_postfix": ") ",
     "delete_cmd_prefix": "rm(",
     "library": "var_list.r",
     "varRefreshCmd": "cat(var_dic_list()) "
    }
   },
   "types_to_exclude": [
    "module",
    "function",
    "builtin_function_or_method",
    "instance",
    "_Feature"
   ],
   "window_display": false
  }
 },
 "nbformat": 4,
 "nbformat_minor": 2
}
