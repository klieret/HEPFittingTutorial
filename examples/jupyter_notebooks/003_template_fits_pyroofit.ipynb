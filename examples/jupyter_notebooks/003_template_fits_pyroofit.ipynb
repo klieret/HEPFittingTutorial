{
 "cells": [
  {
   "cell_type": "markdown",
   "metadata": {},
   "source": [
    "# Simple template fitting using pyroofit"
   ]
  },
  {
   "cell_type": "markdown",
   "metadata": {},
   "source": [
    "<div class=\"alert alert-block alert-danger\">\n",
    "    <b>Note for contributors:</b> Remember to run <code>Kernel > Restart & Clear output</code> before adding any changes to git!</div>"
   ]
  },
  {
   "cell_type": "markdown",
   "metadata": {},
   "source": [
    "In this tutorial we will perform template fits with ``pyroofit``.\n",
    "\n",
    "``pyroofit`` is a python wrapper for the ``RooFit`` package. Documentation can be found here: \n",
    "    http://www.desy.de/~swehle/pyroofit/\n",
    "    \n",
    "The project's code can be found at https://github.com/simonUU/PyrooFit\n",
    "\n",
    "``pyroofit`` can be installed with ``pip3 install --user pyroofit``."
   ]
  },
  {
   "cell_type": "code",
   "execution_count": null,
   "metadata": {
    "ExecuteTime": {
     "end_time": "2020-04-22T13:42:11.532964Z",
     "start_time": "2020-04-22T13:42:08.839305Z"
    }
   },
   "outputs": [],
   "source": [
    "import ROOT\n",
    "from pyroofit.models import Gauss, Chebychev\n",
    "\n",
    "import numpy as np\n",
    "import pandas as pd\n",
    "\n",
    "# Show pictures in this notebook\n",
    "from IPython.display import Image\n",
    "\n",
    "%matplotlib inline"
   ]
  },
  {
   "cell_type": "code",
   "execution_count": null,
   "metadata": {
    "ExecuteTime": {
     "end_time": "2020-04-22T13:45:14.657785Z",
     "start_time": "2020-04-22T13:45:14.639348Z"
    }
   },
   "outputs": [],
   "source": [
    "# Create some test data\n",
    "data = pd.DataFrame(\n",
    "    np.concatenate((\n",
    "        np.random.normal(-2, 1, 1000), \n",
    "        np.random.normal(3, 2, 1000), \n",
    "        -5 + 10* np.random.random_sample(2000)\n",
    "    )),\n",
    "    columns=[\"x\"]\n",
    ")"
   ]
  },
  {
   "cell_type": "markdown",
   "metadata": {},
   "source": [
    "<div class=\"alert alert-block alert-info\">\n",
    "    <b>Note:</b> We will fit the <b>histogram</b> of the above data, so note the conceptual difference to the <code>x, y</code> data from the tutorial <code>fitting_curves_data</code>.</div>"
   ]
  },
  {
   "cell_type": "markdown",
   "metadata": {},
   "source": [
    "<div class=\"alert alert-block alert-success\">\n",
    "<b>Question [medium]:</b> Can you guess what the corresponding histogram to this data will look like and why?</div>"
   ]
  },
  {
   "cell_type": "markdown",
   "metadata": {},
   "source": [
    "No? Then cheat and look at the histogram:"
   ]
  },
  {
   "cell_type": "code",
   "execution_count": null,
   "metadata": {
    "ExecuteTime": {
     "end_time": "2020-04-22T13:45:16.389923Z",
     "start_time": "2020-04-22T13:45:16.103672Z"
    },
    "scrolled": true
   },
   "outputs": [],
   "source": [
    "data.hist(bins=30)"
   ]
  },
  {
   "cell_type": "markdown",
   "metadata": {},
   "source": [
    "## First try: Fit single gaussian as signal and line as background"
   ]
  },
  {
   "cell_type": "code",
   "execution_count": null,
   "metadata": {
    "ExecuteTime": {
     "end_time": "2020-04-22T13:45:18.848657Z",
     "start_time": "2020-04-22T13:45:18.838170Z"
    }
   },
   "outputs": [],
   "source": [
    "# Gaussian for signal\n",
    "pdf_sig = Gauss(('x', -5, 5), mean=(-1, 0, 1), title=\"Signal\")\n",
    "\n",
    "# Straight line for background\n",
    "pdf_bkg = Chebychev(('x', -5, 5), n=1, title=\"Background\")"
   ]
  },
  {
   "cell_type": "markdown",
   "metadata": {},
   "source": [
    "<div class=\"alert alert-block alert-success\">\n",
    "<b>Question:</b> Why is the model for the straight line called 'Chebychev'?</div>"
   ]
  },
  {
   "cell_type": "markdown",
   "metadata": {},
   "source": [
    "Now we build a compound PDF from the two simple PDFs.\n",
    "``pyroofit`` is quite nice in that this has a very pythonic syntax (we overload the ``+`` operator):"
   ]
  },
  {
   "cell_type": "code",
   "execution_count": null,
   "metadata": {
    "ExecuteTime": {
     "end_time": "2020-04-22T13:45:20.656395Z",
     "start_time": "2020-04-22T13:45:20.642474Z"
    }
   },
   "outputs": [],
   "source": [
    "pdf = pdf_sig + pdf_bkg"
   ]
  },
  {
   "cell_type": "markdown",
   "metadata": {},
   "source": [
    "Now we're ready to fit:"
   ]
  },
  {
   "cell_type": "code",
   "execution_count": null,
   "metadata": {
    "ExecuteTime": {
     "end_time": "2020-04-22T13:45:21.210128Z",
     "start_time": "2020-04-22T13:45:20.979408Z"
    }
   },
   "outputs": [],
   "source": [
    "pdf.fit(data)"
   ]
  },
  {
   "cell_type": "markdown",
   "metadata": {},
   "source": [
    "Don't be deterred by the amount of output, but let's look at the results:"
   ]
  },
  {
   "cell_type": "code",
   "execution_count": null,
   "metadata": {
    "ExecuteTime": {
     "end_time": "2020-04-22T13:45:21.486119Z",
     "start_time": "2020-04-22T13:45:21.477030Z"
    }
   },
   "outputs": [],
   "source": [
    "pdf.get()"
   ]
  },
  {
   "cell_type": "markdown",
   "metadata": {},
   "source": [
    "**Hint:** In order to get the results as a dictionary, use ``get_parameters()`` instead:"
   ]
  },
  {
   "cell_type": "code",
   "execution_count": null,
   "metadata": {
    "ExecuteTime": {
     "end_time": "2020-04-22T13:45:22.532940Z",
     "start_time": "2020-04-22T13:45:22.508900Z"
    }
   },
   "outputs": [],
   "source": [
    "pdf.get_parameters()"
   ]
  },
  {
   "cell_type": "markdown",
   "metadata": {},
   "source": [
    "And plot:"
   ]
  },
  {
   "cell_type": "code",
   "execution_count": null,
   "metadata": {
    "ExecuteTime": {
     "end_time": "2020-04-22T13:45:29.292477Z",
     "start_time": "2020-04-22T13:45:29.063789Z"
    }
   },
   "outputs": [],
   "source": [
    "pdf.plot(\"test.png\", legend=True)"
   ]
  },
  {
   "cell_type": "code",
   "execution_count": null,
   "metadata": {
    "ExecuteTime": {
     "end_time": "2020-04-22T13:45:29.859589Z",
     "start_time": "2020-04-22T13:45:29.841359Z"
    }
   },
   "outputs": [],
   "source": [
    "Image(\"test.png\")"
   ]
  },
  {
   "cell_type": "markdown",
   "metadata": {},
   "source": [
    "<div class=\"alert alert-block alert-success\">\n",
    "<b>Question 2 [easy]:</b> Why are the results so terrible?</div>"
   ]
  },
  {
   "cell_type": "markdown",
   "metadata": {},
   "source": [
    "## Second try: Fit two gaussians as signal"
   ]
  },
  {
   "cell_type": "code",
   "execution_count": null,
   "metadata": {
    "ExecuteTime": {
     "end_time": "2020-04-22T13:45:34.094358Z",
     "start_time": "2020-04-22T13:45:34.082705Z"
    },
    "run_control": {
     "marked": false
    }
   },
   "outputs": [],
   "source": [
    "gauss1 = Gauss(('x', -5, 5), mean=(3, -5, 5), title=\"signal\", name=\"gauss1\")\n",
    "gauss2 = Gauss(('x', -5, 5), mean=(-3, -5, 5), title=\"signal\", name=\"gauss2\")\n",
    "pdf_sig = gauss1 + gauss2\n",
    "pdf_bkg = Chebychev(('x', -5, 5), n=1, title=\"Background\")\n",
    "pdf = pdf_sig + pdf_bkg #Gauss(('x', -5, 5),mean=mean, title=\"signal\", name=\"gauss1\") + \\"
   ]
  },
  {
   "cell_type": "code",
   "execution_count": null,
   "metadata": {
    "ExecuteTime": {
     "end_time": "2020-04-22T13:45:36.302391Z",
     "start_time": "2020-04-22T13:45:34.843944Z"
    },
    "run_control": {
     "marked": true
    }
   },
   "outputs": [],
   "source": [
    "pdf.fit(data)"
   ]
  },
  {
   "cell_type": "code",
   "execution_count": null,
   "metadata": {
    "ExecuteTime": {
     "end_time": "2020-04-22T13:45:36.583417Z",
     "start_time": "2020-04-22T13:45:36.557961Z"
    }
   },
   "outputs": [],
   "source": [
    "print(\"Gauss 1:\")\n",
    "print(gauss1.get())\n",
    "print(\"Gauss 2:\")\n",
    "print(gauss2.get())\n",
    "print(\"Bkg:\")\n",
    "print(pdf_bkg.get())"
   ]
  },
  {
   "cell_type": "code",
   "execution_count": null,
   "metadata": {
    "ExecuteTime": {
     "end_time": "2020-04-22T13:45:37.025090Z",
     "start_time": "2020-04-22T13:45:36.819588Z"
    }
   },
   "outputs": [],
   "source": [
    "pdf.plot(\"test2.png\", legend=True)"
   ]
  },
  {
   "cell_type": "code",
   "execution_count": null,
   "metadata": {
    "ExecuteTime": {
     "end_time": "2020-04-22T13:45:37.312038Z",
     "start_time": "2020-04-22T13:45:37.296516Z"
    }
   },
   "outputs": [],
   "source": [
    "Image(\"test2.png\")"
   ]
  }
 ],
 "metadata": {
  "kernelspec": {
   "display_name": "Python 3",
   "language": "python",
   "name": "python3"
  },
  "language_info": {
   "codemirror_mode": {
    "name": "ipython",
    "version": 3
   },
   "file_extension": ".py",
   "mimetype": "text/x-python",
   "name": "python",
   "nbconvert_exporter": "python",
   "pygments_lexer": "ipython3",
   "version": "3.6.9"
  },
  "toc": {
   "base_numbering": 1,
   "nav_menu": {},
   "number_sections": true,
   "sideBar": true,
   "skip_h1_title": false,
   "title_cell": "Table of Contents",
   "title_sidebar": "Contents",
   "toc_cell": false,
   "toc_position": {},
   "toc_section_display": true,
   "toc_window_display": false
  },
  "varInspector": {
   "cols": {
    "lenName": 16,
    "lenType": 16,
    "lenVar": 40
   },
   "kernels_config": {
    "python": {
     "delete_cmd_postfix": "",
     "delete_cmd_prefix": "del ",
     "library": "var_list.py",
     "varRefreshCmd": "print(var_dic_list())"
    },
    "r": {
     "delete_cmd_postfix": ") ",
     "delete_cmd_prefix": "rm(",
     "library": "var_list.r",
     "varRefreshCmd": "cat(var_dic_list()) "
    }
   },
   "position": {
    "height": "466.85px",
    "left": "1550px",
    "right": "20px",
    "top": "120px",
    "width": "350px"
   },
   "types_to_exclude": [
    "module",
    "function",
    "builtin_function_or_method",
    "instance",
    "_Feature"
   ],
   "window_display": true
  }
 },
 "nbformat": 4,
 "nbformat_minor": 2
}
